{
 "cells": [
  {
   "cell_type": "code",
   "execution_count": 1,
   "id": "05f03086-43a6-401d-b2d4-7b3d97f45d9c",
   "metadata": {},
   "outputs": [
    {
     "name": "stdout",
     "output_type": "stream",
     "text": [
      "Intel MKL WARNING: Support of Intel(R) Streaming SIMD Extensions 4.2 (Intel(R) SSE4.2) enabled only processors has been deprecated. Intel oneAPI Math Kernel Library 2025.0 will require Intel(R) Advanced Vector Extensions (Intel(R) AVX) instructions.\n",
      "Intel MKL WARNING: Support of Intel(R) Streaming SIMD Extensions 4.2 (Intel(R) SSE4.2) enabled only processors has been deprecated. Intel oneAPI Math Kernel Library 2025.0 will require Intel(R) Advanced Vector Extensions (Intel(R) AVX) instructions.\n"
     ]
    }
   ],
   "source": [
    "import pandas as pd\n",
    "import numpy as np\n",
    "from pandasql import *\n",
    "import duckdb"
   ]
  },
  {
   "cell_type": "code",
   "execution_count": 2,
   "id": "ff2c9d7a-020a-41c2-9295-2c9c7d8d30db",
   "metadata": {},
   "outputs": [],
   "source": [
    "duck_query = lambda q: duckdb.query(q)\n",
    "pysqldf = lambda q: sqldf(q,globals())"
   ]
  },
  {
   "cell_type": "markdown",
   "id": "e578eecf-a472-4df6-92c1-0552614ad94d",
   "metadata": {},
   "source": [
    "## ----------------------------- Clase 4: Ejercicio -----------------------------"
   ]
  },
  {
   "cell_type": "markdown",
   "id": "3e31e272-5342-4142-83b1-af9ed605b1dd",
   "metadata": {},
   "source": [
    "#### **Cafetería Peet's Coffee** \n",
    "Usted ha sido contratado por una cafetería que cuenta con tiendas en NY, USA. Algunos de sus productos inlcuyen bebidas de café y té, pastelería, entre otros.\n",
    "\n",
    "Actualmente la cafetería no cuenta con reportería interna por lo que le han solicitado generar un reporte diario de las distintas ordenes vendidas.\n",
    "\n",
    "Para ello, usted deberá de crear una única tabla que corra todos los días para que el reporte se actualize automáticamente. Este reporte deberá de llevar la siguiente información:\n",
    "* Fecha\n",
    "* Punto de venta\n",
    "* Categoría\n",
    "* Cantidad de ordenes\n",
    "* Venta total (monto)\n",
    "\n",
    "\n",
    "#### **Instrucciones:**\n",
    "1. Genere una tabla con la información requerida que incluya los meses de Enero hasta Mayo 2023.\n",
    "2. Genere un query que elimine los últimos 10 días e inserte los registros hasta la fecha.\n",
    "3. Corra el query #2 las veces que sean necesarias para que toda la información se encuentre dentro del reporte.\n",
    "4. Valide que el reporte cuente con todas las fechas de la tabla original. (funciones MIN(), MAX())"
   ]
  },
  {
   "cell_type": "code",
   "execution_count": 46,
   "id": "e7c8698c-cbb9-4e26-ba50-4fcb740f7e65",
   "metadata": {},
   "outputs": [],
   "source": [
    "df = pd.read_csv(\"Coffee_Sales_Orders_Peets.csv\")"
   ]
  },
  {
   "cell_type": "code",
   "execution_count": 47,
   "id": "1d6f19af-1b84-4b8e-ad10-751d4946ef21",
   "metadata": {},
   "outputs": [
    {
     "data": {
      "text/html": [
       "<div>\n",
       "<style scoped>\n",
       "    .dataframe tbody tr th:only-of-type {\n",
       "        vertical-align: middle;\n",
       "    }\n",
       "\n",
       "    .dataframe tbody tr th {\n",
       "        vertical-align: top;\n",
       "    }\n",
       "\n",
       "    .dataframe thead th {\n",
       "        text-align: right;\n",
       "    }\n",
       "</style>\n",
       "<table border=\"1\" class=\"dataframe\">\n",
       "  <thead>\n",
       "    <tr style=\"text-align: right;\">\n",
       "      <th></th>\n",
       "      <th>transaction_id</th>\n",
       "      <th>transaction_qty</th>\n",
       "      <th>store_id</th>\n",
       "      <th>store_location</th>\n",
       "      <th>product_id</th>\n",
       "      <th>unit_price</th>\n",
       "      <th>product_category</th>\n",
       "      <th>product_type</th>\n",
       "      <th>product_detail</th>\n",
       "      <th>order_id</th>\n",
       "      <th>transaction_dt</th>\n",
       "      <th>transaction_ts</th>\n",
       "    </tr>\n",
       "  </thead>\n",
       "  <tbody>\n",
       "    <tr>\n",
       "      <th>0</th>\n",
       "      <td>1</td>\n",
       "      <td>2</td>\n",
       "      <td>5</td>\n",
       "      <td>Lower Manhattan</td>\n",
       "      <td>32</td>\n",
       "      <td>3.0</td>\n",
       "      <td>Coffee</td>\n",
       "      <td>Gourmet brewed coffee</td>\n",
       "      <td>Ethiopia Rg</td>\n",
       "      <td>613141</td>\n",
       "      <td>2023-01-01</td>\n",
       "      <td>2023-01-01 07:06:11</td>\n",
       "    </tr>\n",
       "    <tr>\n",
       "      <th>1</th>\n",
       "      <td>2</td>\n",
       "      <td>2</td>\n",
       "      <td>5</td>\n",
       "      <td>Lower Manhattan</td>\n",
       "      <td>57</td>\n",
       "      <td>3.1</td>\n",
       "      <td>Tea</td>\n",
       "      <td>Brewed Chai tea</td>\n",
       "      <td>Spicy Eye Opener Chai Lg</td>\n",
       "      <td>168935</td>\n",
       "      <td>2023-01-01</td>\n",
       "      <td>2023-01-01 07:08:56</td>\n",
       "    </tr>\n",
       "    <tr>\n",
       "      <th>2</th>\n",
       "      <td>3</td>\n",
       "      <td>2</td>\n",
       "      <td>5</td>\n",
       "      <td>Lower Manhattan</td>\n",
       "      <td>59</td>\n",
       "      <td>4.5</td>\n",
       "      <td>Drinking Chocolate</td>\n",
       "      <td>Hot chocolate</td>\n",
       "      <td>Dark chocolate Lg</td>\n",
       "      <td>301867</td>\n",
       "      <td>2023-01-01</td>\n",
       "      <td>2023-01-01 07:14:04</td>\n",
       "    </tr>\n",
       "    <tr>\n",
       "      <th>3</th>\n",
       "      <td>4</td>\n",
       "      <td>1</td>\n",
       "      <td>5</td>\n",
       "      <td>Lower Manhattan</td>\n",
       "      <td>22</td>\n",
       "      <td>2.0</td>\n",
       "      <td>Coffee</td>\n",
       "      <td>Drip coffee</td>\n",
       "      <td>Our Old Time Diner Blend Sm</td>\n",
       "      <td>593276</td>\n",
       "      <td>2023-01-01</td>\n",
       "      <td>2023-01-01 07:20:24</td>\n",
       "    </tr>\n",
       "    <tr>\n",
       "      <th>4</th>\n",
       "      <td>5</td>\n",
       "      <td>2</td>\n",
       "      <td>5</td>\n",
       "      <td>Lower Manhattan</td>\n",
       "      <td>57</td>\n",
       "      <td>3.1</td>\n",
       "      <td>Tea</td>\n",
       "      <td>Brewed Chai tea</td>\n",
       "      <td>Spicy Eye Opener Chai Lg</td>\n",
       "      <td>654074</td>\n",
       "      <td>2023-01-01</td>\n",
       "      <td>2023-01-01 07:22:41</td>\n",
       "    </tr>\n",
       "  </tbody>\n",
       "</table>\n",
       "</div>"
      ],
      "text/plain": [
       "   transaction_id  transaction_qty  store_id   store_location  product_id  \\\n",
       "0               1                2         5  Lower Manhattan          32   \n",
       "1               2                2         5  Lower Manhattan          57   \n",
       "2               3                2         5  Lower Manhattan          59   \n",
       "3               4                1         5  Lower Manhattan          22   \n",
       "4               5                2         5  Lower Manhattan          57   \n",
       "\n",
       "   unit_price    product_category           product_type  \\\n",
       "0         3.0              Coffee  Gourmet brewed coffee   \n",
       "1         3.1                 Tea        Brewed Chai tea   \n",
       "2         4.5  Drinking Chocolate          Hot chocolate   \n",
       "3         2.0              Coffee            Drip coffee   \n",
       "4         3.1                 Tea        Brewed Chai tea   \n",
       "\n",
       "                product_detail  order_id transaction_dt       transaction_ts  \n",
       "0                  Ethiopia Rg    613141     2023-01-01  2023-01-01 07:06:11  \n",
       "1     Spicy Eye Opener Chai Lg    168935     2023-01-01  2023-01-01 07:08:56  \n",
       "2            Dark chocolate Lg    301867     2023-01-01  2023-01-01 07:14:04  \n",
       "3  Our Old Time Diner Blend Sm    593276     2023-01-01  2023-01-01 07:20:24  \n",
       "4     Spicy Eye Opener Chai Lg    654074     2023-01-01  2023-01-01 07:22:41  "
      ]
     },
     "execution_count": 47,
     "metadata": {},
     "output_type": "execute_result"
    }
   ],
   "source": [
    "df.head()"
   ]
  },
  {
   "cell_type": "code",
   "execution_count": 49,
   "id": "030f28c2-88d0-4a0e-a9e4-a1cf5a1be94d",
   "metadata": {},
   "outputs": [],
   "source": [
    "duck_query(\n",
    "    \"\"\"\n",
    "    CREATE OR REPLACE TABLE coffee_sales_orders AS\n",
    "    SELECT \n",
    "        * EXCLUDE(transaction_dt, transaction_ts)\n",
    "        ,CAST(transaction_dt AS DATE) transaction_dt\n",
    "        ,CAST(transaction_ts AS DATETIME) transaction_ts\n",
    "    FROM df\n",
    "    \"\"\"\n",
    ")"
   ]
  },
  {
   "cell_type": "code",
   "execution_count": 51,
   "id": "16775b54-6456-420a-86b8-31617ee8a017",
   "metadata": {},
   "outputs": [
    {
     "data": {
      "text/plain": [
       "┌────────────────┬─────────────────┬──────────┬─────────────────┬───┬──────────┬────────────────┬─────────────────────┐\n",
       "│ transaction_id │ transaction_qty │ store_id │ store_location  │ … │ order_id │ transaction_dt │   transaction_ts    │\n",
       "│     int64      │      int64      │  int64   │     varchar     │   │  int64   │      date      │      timestamp      │\n",
       "├────────────────┼─────────────────┼──────────┼─────────────────┼───┼──────────┼────────────────┼─────────────────────┤\n",
       "│              1 │               2 │        5 │ Lower Manhattan │ … │   613141 │ 2023-01-01     │ 2023-01-01 07:06:11 │\n",
       "│              2 │               2 │        5 │ Lower Manhattan │ … │   168935 │ 2023-01-01     │ 2023-01-01 07:08:56 │\n",
       "├────────────────┴─────────────────┴──────────┴─────────────────┴───┴──────────┴────────────────┴─────────────────────┤\n",
       "│ 2 rows                                                                                         12 columns (7 shown) │\n",
       "└─────────────────────────────────────────────────────────────────────────────────────────────────────────────────────┘"
      ]
     },
     "execution_count": 51,
     "metadata": {},
     "output_type": "execute_result"
    }
   ],
   "source": [
    "duck_query(\n",
    "    \"\"\"\n",
    "    SELECT *\n",
    "    FROM coffee_sales_orders\n",
    "    LIMIT 2\n",
    "    \"\"\"\n",
    ")"
   ]
  },
  {
   "cell_type": "code",
   "execution_count": null,
   "id": "d55b7a42-c651-4c59-9783-4c137b094016",
   "metadata": {},
   "outputs": [],
   "source": []
  }
 ],
 "metadata": {
  "kernelspec": {
   "display_name": "Python 3 (ipykernel)",
   "language": "python",
   "name": "python3"
  },
  "language_info": {
   "codemirror_mode": {
    "name": "ipython",
    "version": 3
   },
   "file_extension": ".py",
   "mimetype": "text/x-python",
   "name": "python",
   "nbconvert_exporter": "python",
   "pygments_lexer": "ipython3",
   "version": "3.12.4"
  }
 },
 "nbformat": 4,
 "nbformat_minor": 5
}
