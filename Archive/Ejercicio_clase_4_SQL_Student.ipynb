{
 "cells": [
  {
   "cell_type": "code",
   "execution_count": 21,
   "id": "05f03086-43a6-401d-b2d4-7b3d97f45d9c",
   "metadata": {},
   "outputs": [],
   "source": [
    "import pandas as pd\n",
    "import numpy as np\n",
    "from pandasql import *\n",
    "import duckdb"
   ]
  },
  {
   "cell_type": "code",
   "execution_count": 22,
   "id": "ff2c9d7a-020a-41c2-9295-2c9c7d8d30db",
   "metadata": {},
   "outputs": [],
   "source": [
    "duck_query = lambda q: duckdb.query(q)\n",
    "pysqldf = lambda q: sqldf(q,globals())"
   ]
  },
  {
   "cell_type": "markdown",
   "id": "e578eecf-a472-4df6-92c1-0552614ad94d",
   "metadata": {},
   "source": [
    "## ----------------------------- Clase 4: Ejercicio -----------------------------"
   ]
  },
  {
   "cell_type": "markdown",
   "id": "3e31e272-5342-4142-83b1-af9ed605b1dd",
   "metadata": {},
   "source": [
    "#### **Cafetería Peet's Coffee** \n",
    "Usted ha sido contratado por una cafetería que cuenta con tiendas en NY, USA. Algunos de sus productos inlcuyen bebidas de café y té, pastelería, entre otros.\n",
    "\n",
    "Actualmente la cafetería no cuenta con reportería interna por lo que le han solicitado generar un reporte diario de las distintas ordenes vendidas.\n",
    "\n",
    "Para ello, usted deberá de crear una única tabla que corra todos los días para que el reporte se actualize automáticamente. Este reporte deberá de llevar la siguiente información:\n",
    "* Fecha\n",
    "* Punto de venta\n",
    "* Categoría\n",
    "* Cantidad de ordenes\n",
    "* Venta total (monto)\n",
    "\n",
    "\n",
    "#### **Instrucciones:**\n",
    "1. Genere una tabla con la información requerida que incluya los meses de Enero hasta Mayo 2023.\n",
    "2. Genere un query que elimine los últimos 10 días e inserte los registros hasta la fecha.\n",
    "3. Corra el query #2 las veces que sean necesarias para que toda la información se encuentre dentro del reporte.\n",
    "4. Valide que el reporte cuente con todas las fechas de la tabla original. (funciones MIN(), MAX())"
   ]
  },
  {
   "cell_type": "code",
   "execution_count": 23,
   "id": "e7c8698c-cbb9-4e26-ba50-4fcb740f7e65",
   "metadata": {},
   "outputs": [],
   "source": [
    "df = pd.read_csv(\"Coffee_Sales_Orders_Peets.csv\")"
   ]
  },
  {
   "cell_type": "code",
   "execution_count": 24,
   "id": "1d6f19af-1b84-4b8e-ad10-751d4946ef21",
   "metadata": {},
   "outputs": [
    {
     "data": {
      "text/html": [
       "<div>\n",
       "<style scoped>\n",
       "    .dataframe tbody tr th:only-of-type {\n",
       "        vertical-align: middle;\n",
       "    }\n",
       "\n",
       "    .dataframe tbody tr th {\n",
       "        vertical-align: top;\n",
       "    }\n",
       "\n",
       "    .dataframe thead th {\n",
       "        text-align: right;\n",
       "    }\n",
       "</style>\n",
       "<table border=\"1\" class=\"dataframe\">\n",
       "  <thead>\n",
       "    <tr style=\"text-align: right;\">\n",
       "      <th></th>\n",
       "      <th>transaction_id</th>\n",
       "      <th>transaction_qty</th>\n",
       "      <th>store_id</th>\n",
       "      <th>store_location</th>\n",
       "      <th>product_id</th>\n",
       "      <th>unit_price</th>\n",
       "      <th>product_category</th>\n",
       "      <th>product_type</th>\n",
       "      <th>product_detail</th>\n",
       "      <th>order_id</th>\n",
       "      <th>transaction_dt</th>\n",
       "      <th>transaction_ts</th>\n",
       "    </tr>\n",
       "  </thead>\n",
       "  <tbody>\n",
       "    <tr>\n",
       "      <th>0</th>\n",
       "      <td>1</td>\n",
       "      <td>2</td>\n",
       "      <td>5</td>\n",
       "      <td>Lower Manhattan</td>\n",
       "      <td>32</td>\n",
       "      <td>3.0</td>\n",
       "      <td>Coffee</td>\n",
       "      <td>Gourmet brewed coffee</td>\n",
       "      <td>Ethiopia Rg</td>\n",
       "      <td>613141</td>\n",
       "      <td>2023-01-01</td>\n",
       "      <td>2023-01-01 07:06:11</td>\n",
       "    </tr>\n",
       "    <tr>\n",
       "      <th>1</th>\n",
       "      <td>2</td>\n",
       "      <td>2</td>\n",
       "      <td>5</td>\n",
       "      <td>Lower Manhattan</td>\n",
       "      <td>57</td>\n",
       "      <td>3.1</td>\n",
       "      <td>Tea</td>\n",
       "      <td>Brewed Chai tea</td>\n",
       "      <td>Spicy Eye Opener Chai Lg</td>\n",
       "      <td>168935</td>\n",
       "      <td>2023-01-01</td>\n",
       "      <td>2023-01-01 07:08:56</td>\n",
       "    </tr>\n",
       "    <tr>\n",
       "      <th>2</th>\n",
       "      <td>3</td>\n",
       "      <td>2</td>\n",
       "      <td>5</td>\n",
       "      <td>Lower Manhattan</td>\n",
       "      <td>59</td>\n",
       "      <td>4.5</td>\n",
       "      <td>Drinking Chocolate</td>\n",
       "      <td>Hot chocolate</td>\n",
       "      <td>Dark chocolate Lg</td>\n",
       "      <td>301867</td>\n",
       "      <td>2023-01-01</td>\n",
       "      <td>2023-01-01 07:14:04</td>\n",
       "    </tr>\n",
       "    <tr>\n",
       "      <th>3</th>\n",
       "      <td>4</td>\n",
       "      <td>1</td>\n",
       "      <td>5</td>\n",
       "      <td>Lower Manhattan</td>\n",
       "      <td>22</td>\n",
       "      <td>2.0</td>\n",
       "      <td>Coffee</td>\n",
       "      <td>Drip coffee</td>\n",
       "      <td>Our Old Time Diner Blend Sm</td>\n",
       "      <td>593276</td>\n",
       "      <td>2023-01-01</td>\n",
       "      <td>2023-01-01 07:20:24</td>\n",
       "    </tr>\n",
       "    <tr>\n",
       "      <th>4</th>\n",
       "      <td>5</td>\n",
       "      <td>2</td>\n",
       "      <td>5</td>\n",
       "      <td>Lower Manhattan</td>\n",
       "      <td>57</td>\n",
       "      <td>3.1</td>\n",
       "      <td>Tea</td>\n",
       "      <td>Brewed Chai tea</td>\n",
       "      <td>Spicy Eye Opener Chai Lg</td>\n",
       "      <td>654074</td>\n",
       "      <td>2023-01-01</td>\n",
       "      <td>2023-01-01 07:22:41</td>\n",
       "    </tr>\n",
       "  </tbody>\n",
       "</table>\n",
       "</div>"
      ],
      "text/plain": [
       "   transaction_id  transaction_qty  store_id   store_location  product_id  \\\n",
       "0               1                2         5  Lower Manhattan          32   \n",
       "1               2                2         5  Lower Manhattan          57   \n",
       "2               3                2         5  Lower Manhattan          59   \n",
       "3               4                1         5  Lower Manhattan          22   \n",
       "4               5                2         5  Lower Manhattan          57   \n",
       "\n",
       "   unit_price    product_category           product_type  \\\n",
       "0         3.0              Coffee  Gourmet brewed coffee   \n",
       "1         3.1                 Tea        Brewed Chai tea   \n",
       "2         4.5  Drinking Chocolate          Hot chocolate   \n",
       "3         2.0              Coffee            Drip coffee   \n",
       "4         3.1                 Tea        Brewed Chai tea   \n",
       "\n",
       "                product_detail  order_id transaction_dt       transaction_ts  \n",
       "0                  Ethiopia Rg    613141     2023-01-01  2023-01-01 07:06:11  \n",
       "1     Spicy Eye Opener Chai Lg    168935     2023-01-01  2023-01-01 07:08:56  \n",
       "2            Dark chocolate Lg    301867     2023-01-01  2023-01-01 07:14:04  \n",
       "3  Our Old Time Diner Blend Sm    593276     2023-01-01  2023-01-01 07:20:24  \n",
       "4     Spicy Eye Opener Chai Lg    654074     2023-01-01  2023-01-01 07:22:41  "
      ]
     },
     "execution_count": 24,
     "metadata": {},
     "output_type": "execute_result"
    }
   ],
   "source": [
    "df.head()"
   ]
  },
  {
   "cell_type": "code",
   "execution_count": 31,
   "id": "030f28c2-88d0-4a0e-a9e4-a1cf5a1be94d",
   "metadata": {},
   "outputs": [],
   "source": [
    "duck_query(\n",
    "    \"\"\"\n",
    "    CREATE OR REPLACE TABLE coffee_sales_orders AS\n",
    "    SELECT \n",
    "        * EXCLUDE(transaction_dt, transaction_ts)\n",
    "        ,CAST(transaction_dt AS DATE) transaction_dt\n",
    "        ,CAST(transaction_ts AS DATETIME) transaction_ts\n",
    "    FROM df\n",
    "    \"\"\"\n",
    ")"
   ]
  },
  {
   "cell_type": "code",
   "execution_count": 32,
   "id": "16775b54-6456-420a-86b8-31617ee8a017",
   "metadata": {},
   "outputs": [
    {
     "data": {
      "text/plain": [
       "┌────────────────┬─────────────────┬──────────┬─────────────────┬───┬──────────┬────────────────┬─────────────────────┐\n",
       "│ transaction_id │ transaction_qty │ store_id │ store_location  │ … │ order_id │ transaction_dt │   transaction_ts    │\n",
       "│     int64      │      int64      │  int64   │     varchar     │   │  int64   │      date      │      timestamp      │\n",
       "├────────────────┼─────────────────┼──────────┼─────────────────┼───┼──────────┼────────────────┼─────────────────────┤\n",
       "│              1 │               2 │        5 │ Lower Manhattan │ … │   613141 │ 2023-01-01     │ 2023-01-01 07:06:11 │\n",
       "│              2 │               2 │        5 │ Lower Manhattan │ … │   168935 │ 2023-01-01     │ 2023-01-01 07:08:56 │\n",
       "│              3 │               2 │        5 │ Lower Manhattan │ … │   301867 │ 2023-01-01     │ 2023-01-01 07:14:04 │\n",
       "│              4 │               1 │        5 │ Lower Manhattan │ … │   593276 │ 2023-01-01     │ 2023-01-01 07:20:24 │\n",
       "│              5 │               2 │        5 │ Lower Manhattan │ … │   654074 │ 2023-01-01     │ 2023-01-01 07:22:41 │\n",
       "│              6 │               1 │        5 │ Lower Manhattan │ … │   596900 │ 2023-01-01     │ 2023-01-01 07:22:41 │\n",
       "│              7 │               1 │        5 │ Lower Manhattan │ … │   149463 │ 2023-01-01     │ 2023-01-01 07:25:49 │\n",
       "│              8 │               2 │        5 │ Lower Manhattan │ … │    59664 │ 2023-01-01     │ 2023-01-01 07:33:34 │\n",
       "│              9 │               1 │        5 │ Lower Manhattan │ … │   129269 │ 2023-01-01     │ 2023-01-01 07:39:13 │\n",
       "│             10 │               2 │        5 │ Lower Manhattan │ … │   173993 │ 2023-01-01     │ 2023-01-01 07:39:34 │\n",
       "│             11 │               1 │        5 │ Lower Manhattan │ … │   203142 │ 2023-01-01     │ 2023-01-01 07:43:05 │\n",
       "│             12 │               2 │        5 │ Lower Manhattan │ … │   514211 │ 2023-01-01     │ 2023-01-01 07:44:35 │\n",
       "│             13 │               1 │        5 │ Lower Manhattan │ … │    82186 │ 2023-01-01     │ 2023-01-01 07:45:51 │\n",
       "│             14 │               1 │        5 │ Lower Manhattan │ … │   837876 │ 2023-01-01     │ 2023-01-01 07:48:19 │\n",
       "│             15 │               2 │        5 │ Lower Manhattan │ … │   121164 │ 2023-01-01     │ 2023-01-01 07:52:36 │\n",
       "│             16 │               2 │        5 │ Lower Manhattan │ … │   275079 │ 2023-01-01     │ 2023-01-01 07:59:58 │\n",
       "│             17 │               1 │        5 │ Lower Manhattan │ … │   525465 │ 2023-01-01     │ 2023-01-01 07:59:58 │\n",
       "│             18 │               1 │        8 │ Hell's Kitchen  │ … │   675669 │ 2023-01-01     │ 2023-01-01 08:00:18 │\n",
       "│             19 │               2 │        8 │ Hell's Kitchen  │ … │   608035 │ 2023-01-01     │ 2023-01-01 08:00:39 │\n",
       "│             20 │               1 │        8 │ Hell's Kitchen  │ … │   909247 │ 2023-01-01     │ 2023-01-01 08:11:45 │\n",
       "├────────────────┴─────────────────┴──────────┴─────────────────┴───┴──────────┴────────────────┴─────────────────────┤\n",
       "│ 20 rows                                                                                        12 columns (7 shown) │\n",
       "└─────────────────────────────────────────────────────────────────────────────────────────────────────────────────────┘"
      ]
     },
     "execution_count": 32,
     "metadata": {},
     "output_type": "execute_result"
    }
   ],
   "source": [
    "duck_query(\n",
    "    \"\"\"\n",
    "    SELECT *\n",
    "    FROM coffee_sales_orders\n",
    "    LIMIT 20\n",
    "    \"\"\"\n",
    ")"
   ]
  },
  {
   "cell_type": "code",
   "execution_count": null,
   "id": "1c617886-2c1c-4692-84cc-5d8ae0a30734",
   "metadata": {},
   "outputs": [],
   "source": [
    "3687 en el count all fecha final 30 de junio "
   ]
  },
  {
   "cell_type": "code",
   "execution_count": 42,
   "id": "e8c64e0a-99c9-4415-a86d-53c20283d46e",
   "metadata": {},
   "outputs": [
    {
     "name": "stdout",
     "output_type": "stream",
     "text": [
      "   transaction_dt   store_location    product_category  n_orders  total_amount\n",
      "0      2023-01-01          Astoria              Bakery        17         61.00\n",
      "1      2023-01-01          Astoria              Coffee        82        381.80\n",
      "2      2023-01-01          Astoria  Drinking Chocolate        25        142.50\n",
      "3      2023-01-01          Astoria                 Tea        66        283.10\n",
      "4      2023-01-01   Hell's Kitchen              Bakery        18         65.25\n",
      "5      2023-01-01   Hell's Kitchen              Coffee        87        427.05\n",
      "6      2023-01-01   Hell's Kitchen  Drinking Chocolate        13         71.75\n",
      "7      2023-01-01   Hell's Kitchen                 Tea        66        287.40\n",
      "8      2023-01-01  Lower Manhattan              Bakery        33        115.25\n",
      "9      2023-01-01  Lower Manhattan              Coffee        72        351.25\n",
      "10     2023-01-01  Lower Manhattan  Drinking Chocolate        12         81.25\n",
      "11     2023-01-01  Lower Manhattan                 Tea        59        240.60\n",
      "12     2023-01-02          Astoria              Bakery        36        127.25\n",
      "13     2023-01-02          Astoria              Coffee        93        426.90\n",
      "14     2023-01-02          Astoria  Drinking Chocolate        16         83.50\n",
      "15     2023-01-02          Astoria                 Tea        67        287.85\n",
      "16     2023-01-02   Hell's Kitchen              Bakery        23         81.50\n",
      "17     2023-01-02   Hell's Kitchen              Coffee        91        398.30\n",
      "18     2023-01-02   Hell's Kitchen  Drinking Chocolate        11         72.25\n",
      "19     2023-01-02   Hell's Kitchen                 Tea        70        276.75\n"
     ]
    }
   ],
   "source": [
    "con.execute(\"\"\"\n",
    "    CREATE OR REPLACE TABLE coffee_sales_report_dly AS\n",
    "    SELECT\n",
    "        transaction_dt,\n",
    "        store_location,\n",
    "        product_category,\n",
    "        COUNT(DISTINCT order_id) AS n_orders,\n",
    "        ROUND(SUM(transaction_qty * unit_price), 2) AS total_amount\n",
    "    FROM\n",
    "        coffee_sales_orders\n",
    "    WHERE\n",
    "        transaction_dt BETWEEN '2023-01-01' AND '2023-05-30'\n",
    "    GROUP BY 1, 2, 3\n",
    "    ORDER BY 1, 2, 3\n",
    "\"\"\")\n",
    "result = con.execute(\"SELECT * FROM coffee_sales_report_dly LIMIT 20\").fetchdf()\n",
    "print(result)"
   ]
  },
  {
   "cell_type": "code",
   "execution_count": 45,
   "id": "e957513b-4316-4723-932f-3738b9e6a596",
   "metadata": {},
   "outputs": [
    {
     "name": "stdout",
     "output_type": "stream",
     "text": [
      "   transaction_dt   store_location    product_category  n_orders  total_amount\n",
      "0      2023-01-01          Astoria              Bakery        17         61.00\n",
      "1      2023-01-01          Astoria              Coffee        82        381.80\n",
      "2      2023-01-01          Astoria  Drinking Chocolate        25        142.50\n",
      "3      2023-01-01          Astoria                 Tea        66        283.10\n",
      "4      2023-01-01   Hell's Kitchen              Bakery        18         65.25\n",
      "5      2023-01-01   Hell's Kitchen              Coffee        87        427.05\n",
      "6      2023-01-01   Hell's Kitchen  Drinking Chocolate        13         71.75\n",
      "7      2023-01-01   Hell's Kitchen                 Tea        66        287.40\n",
      "8      2023-01-01  Lower Manhattan              Bakery        33        115.25\n",
      "9      2023-01-01  Lower Manhattan              Coffee        72        351.25\n",
      "10     2023-01-01  Lower Manhattan  Drinking Chocolate        12         81.25\n",
      "11     2023-01-01  Lower Manhattan                 Tea        59        240.60\n",
      "12     2023-01-02          Astoria              Bakery        36        127.25\n",
      "13     2023-01-02          Astoria              Coffee        93        426.90\n",
      "14     2023-01-02          Astoria  Drinking Chocolate        16         83.50\n",
      "15     2023-01-02          Astoria                 Tea        67        287.85\n",
      "16     2023-01-02   Hell's Kitchen              Bakery        23         81.50\n",
      "17     2023-01-02   Hell's Kitchen              Coffee        91        398.30\n",
      "18     2023-01-02   Hell's Kitchen  Drinking Chocolate        11         72.25\n",
      "19     2023-01-02   Hell's Kitchen                 Tea        70        276.75\n"
     ]
    }
   ],
   "source": [
    "# Función para eliminar los últimos 10 días de registros\n",
    "def delete_last_10_days():\n",
    "    con.execute(\"\"\"\n",
    "        DELETE FROM coffee_sales_report_dly\n",
    "        WHERE transaction_dt >= (\n",
    "            SELECT MAX(transaction_dt) FROM coffee_sales_report_dly\n",
    "        ) - INTERVAL '10 days'\n",
    "    \"\"\")\n",
    "\n",
    "# Llamar a la función para eliminar los últimos 10 días\n",
    "delete_last_10_days()\n",
    "\n",
    "# Verificar las primeras filas de la tabla coffee_sales_report_dly después de la eliminación\n",
    "result_after_delete = con.execute(\"SELECT * FROM coffee_sales_report_dly LIMIT 20\").fetchdf()\n",
    "print(result_after_delete)"
   ]
  },
  {
   "cell_type": "code",
   "execution_count": 46,
   "id": "ed19b363-3195-4ed2-8873-f00843c05ac3",
   "metadata": {},
   "outputs": [
    {
     "name": "stdout",
     "output_type": "stream",
     "text": [
      "   transaction_dt   store_location    product_category  n_orders  total_amount\n",
      "0      2023-01-01          Astoria              Bakery        17         61.00\n",
      "1      2023-01-01          Astoria              Coffee        82        381.80\n",
      "2      2023-01-01          Astoria  Drinking Chocolate        25        142.50\n",
      "3      2023-01-01          Astoria                 Tea        66        283.10\n",
      "4      2023-01-01   Hell's Kitchen              Bakery        18         65.25\n",
      "5      2023-01-01   Hell's Kitchen              Coffee        87        427.05\n",
      "6      2023-01-01   Hell's Kitchen  Drinking Chocolate        13         71.75\n",
      "7      2023-01-01   Hell's Kitchen                 Tea        66        287.40\n",
      "8      2023-01-01  Lower Manhattan              Bakery        33        115.25\n",
      "9      2023-01-01  Lower Manhattan              Coffee        72        351.25\n",
      "10     2023-01-01  Lower Manhattan  Drinking Chocolate        12         81.25\n",
      "11     2023-01-01  Lower Manhattan                 Tea        59        240.60\n",
      "12     2023-01-02          Astoria              Bakery        36        127.25\n",
      "13     2023-01-02          Astoria              Coffee        93        426.90\n",
      "14     2023-01-02          Astoria  Drinking Chocolate        16         83.50\n",
      "15     2023-01-02          Astoria                 Tea        67        287.85\n",
      "16     2023-01-02   Hell's Kitchen              Bakery        23         81.50\n",
      "17     2023-01-02   Hell's Kitchen              Coffee        91        398.30\n",
      "18     2023-01-02   Hell's Kitchen  Drinking Chocolate        11         72.25\n",
      "19     2023-01-02   Hell's Kitchen                 Tea        70        276.75\n"
     ]
    }
   ],
   "source": [
    "# Función para eliminar los últimos 10 días de registros\n",
    "def delete_last_10_days():\n",
    "    con.execute(\"\"\"\n",
    "        DELETE FROM coffee_sales_report_dly\n",
    "        WHERE transaction_dt >= (\n",
    "            SELECT MAX(transaction_dt) FROM coffee_sales_report_dly\n",
    "        ) - INTERVAL '10 days'\n",
    "    \"\"\")\n",
    "\n",
    "# Llamar a la función para eliminar los últimos 10 días\n",
    "delete_last_10_days()\n",
    "\n",
    "# Verificar las primeras filas de la tabla coffee_sales_report_dly después de la eliminación\n",
    "result_after_delete = con.execute(\"SELECT * FROM coffee_sales_report_dly LIMIT 20\").fetchdf()\n",
    "print(result_after_delete)"
   ]
  },
  {
   "cell_type": "code",
   "execution_count": 49,
   "id": "67690c38-36a6-4c4e-8a3e-8c9479e0f1a3",
   "metadata": {},
   "outputs": [
    {
     "name": "stdout",
     "output_type": "stream",
     "text": [
      "Original - Min y Max fechas:   min_order_date max_order_date\n",
      "0     2023-01-01     2023-06-30\n",
      "Reporte - Min y Max fechas:   min_report_date max_report_date\n",
      "0      2023-01-01      2023-05-08\n"
     ]
    }
   ],
   "source": [
    "def validate_report_dates():\n",
    "    # Obtener las fechas mínimas y máximas de la tabla original\n",
    "    original_dates = con.execute(\"\"\"\n",
    "        SELECT \n",
    "            MIN(transaction_dt) AS min_order_date,\n",
    "            MAX(transaction_dt) AS max_order_date\n",
    "        FROM coffee_sales_orders\n",
    "    \"\"\").fetchdf()\n",
    "    \n",
    "    # Obtener las fechas mínimas y máximas de la tabla del reporte\n",
    "    report_dates = con.execute(\"\"\"\n",
    "        SELECT \n",
    "            MIN(transaction_dt) AS min_report_date,\n",
    "            MAX(transaction_dt) AS max_report_date\n",
    "        FROM coffee_sales_report_dly\n",
    "    \"\"\").fetchdf()\n",
    "    \n",
    "    print(\"Original - Min y Max fechas:\", original_dates)\n",
    "    print(\"Reporte - Min y Max fechas:\", report_dates)\n",
    "\n",
    "# Validar que el reporte contenga todas las fechas de la tabla original\n",
    "validate_report_dates()"
   ]
  },
  {
   "cell_type": "code",
   "execution_count": null,
   "id": "573bc24c-60a5-40b8-8438-3b59107fae6d",
   "metadata": {},
   "outputs": [],
   "source": []
  }
 ],
 "metadata": {
  "kernelspec": {
   "display_name": "Python 3 (ipykernel)",
   "language": "python",
   "name": "python3"
  },
  "language_info": {
   "codemirror_mode": {
    "name": "ipython",
    "version": 3
   },
   "file_extension": ".py",
   "mimetype": "text/x-python",
   "name": "python",
   "nbconvert_exporter": "python",
   "pygments_lexer": "ipython3",
   "version": "3.12.2"
  }
 },
 "nbformat": 4,
 "nbformat_minor": 5
}
